{
 "cells": [
  {
   "cell_type": "code",
   "execution_count": 1,
   "metadata": {},
   "outputs": [],
   "source": [
    "# Importing required libraries\n",
    "import pandas as pd\n",
    "import numpy as np\n",
    "import matplotlib.pyplot as plt\n",
    "import seaborn as sns\n",
    "from sklearn.preprocessing import LabelEncoder\n",
    "from sklearn.model_selection import train_test_split\n",
    "from sklearn.linear_model import LogisticRegression\n",
    "from sklearn.ensemble import RandomForestClassifier\n",
    "from sklearn.svm import  LinearSVC\n",
    "from sklearn.naive_bayes import GaussianNB\n",
    "from sklearn.metrics import roc_auc_score\n",
    "from sklearn.metrics import confusion_matrix,classification_report, accuracy_score, f1_score, precision_score, recall_score"
   ]
  },
  {
   "cell_type": "code",
   "execution_count": 2,
   "metadata": {},
   "outputs": [
    {
     "data": {
      "text/html": [
       "<div>\n",
       "<style scoped>\n",
       "    .dataframe tbody tr th:only-of-type {\n",
       "        vertical-align: middle;\n",
       "    }\n",
       "\n",
       "    .dataframe tbody tr th {\n",
       "        vertical-align: top;\n",
       "    }\n",
       "\n",
       "    .dataframe thead th {\n",
       "        text-align: right;\n",
       "    }\n",
       "</style>\n",
       "<table border=\"1\" class=\"dataframe\">\n",
       "  <thead>\n",
       "    <tr style=\"text-align: right;\">\n",
       "      <th></th>\n",
       "      <th>step</th>\n",
       "      <th>customer</th>\n",
       "      <th>age</th>\n",
       "      <th>gender</th>\n",
       "      <th>merchant</th>\n",
       "      <th>category</th>\n",
       "      <th>amount</th>\n",
       "      <th>fraud</th>\n",
       "    </tr>\n",
       "  </thead>\n",
       "  <tbody>\n",
       "    <tr>\n",
       "      <th>0</th>\n",
       "      <td>2021-07-16</td>\n",
       "      <td>C1326593353</td>\n",
       "      <td>36to45</td>\n",
       "      <td>Male</td>\n",
       "      <td>M1823072687</td>\n",
       "      <td>Transportation</td>\n",
       "      <td>15.78</td>\n",
       "      <td>0</td>\n",
       "    </tr>\n",
       "    <tr>\n",
       "      <th>1</th>\n",
       "      <td>2021-08-22</td>\n",
       "      <td>C483912131</td>\n",
       "      <td>26to35</td>\n",
       "      <td>Female</td>\n",
       "      <td>M1198415165</td>\n",
       "      <td>Beauty&amp;Wellness</td>\n",
       "      <td>608.32</td>\n",
       "      <td>1</td>\n",
       "    </tr>\n",
       "    <tr>\n",
       "      <th>2</th>\n",
       "      <td>2021-06-03</td>\n",
       "      <td>C1681589600</td>\n",
       "      <td>26to35</td>\n",
       "      <td>Female</td>\n",
       "      <td>M348934600</td>\n",
       "      <td>Transportation</td>\n",
       "      <td>43.76</td>\n",
       "      <td>0</td>\n",
       "    </tr>\n",
       "    <tr>\n",
       "      <th>3</th>\n",
       "      <td>2021-07-01</td>\n",
       "      <td>C1251749294</td>\n",
       "      <td>36to45</td>\n",
       "      <td>Female</td>\n",
       "      <td>M1823072687</td>\n",
       "      <td>Transportation</td>\n",
       "      <td>41.57</td>\n",
       "      <td>0</td>\n",
       "    </tr>\n",
       "    <tr>\n",
       "      <th>4</th>\n",
       "      <td>2021-03-06</td>\n",
       "      <td>C1705346216</td>\n",
       "      <td>36to45</td>\n",
       "      <td>Male</td>\n",
       "      <td>M348934600</td>\n",
       "      <td>Transportation</td>\n",
       "      <td>42.97</td>\n",
       "      <td>0</td>\n",
       "    </tr>\n",
       "  </tbody>\n",
       "</table>\n",
       "</div>"
      ],
      "text/plain": [
       "         step     customer     age  gender     merchant         category  \\\n",
       "0  2021-07-16  C1326593353  36to45    Male  M1823072687   Transportation   \n",
       "1  2021-08-22   C483912131  26to35  Female  M1198415165  Beauty&Wellness   \n",
       "2  2021-06-03  C1681589600  26to35  Female   M348934600   Transportation   \n",
       "3  2021-07-01  C1251749294  36to45  Female  M1823072687   Transportation   \n",
       "4  2021-03-06  C1705346216  36to45    Male   M348934600   Transportation   \n",
       "\n",
       "   amount  fraud  \n",
       "0   15.78      0  \n",
       "1  608.32      1  \n",
       "2   43.76      0  \n",
       "3   41.57      0  \n",
       "4   42.97      0  "
      ]
     },
     "execution_count": 2,
     "metadata": {},
     "output_type": "execute_result"
    }
   ],
   "source": [
    "# Loading the data in a pandas DataFrame\n",
    "data = pd.read_csv(r\"C:\\Users\\intel\\Desktop\\help\\sampled_data2.csv\")\n",
    "data.head()"
   ]
  },
  {
   "cell_type": "code",
   "execution_count": 3,
   "metadata": {},
   "outputs": [
    {
     "data": {
      "text/plain": [
       "(25200, 8)"
      ]
     },
     "execution_count": 3,
     "metadata": {},
     "output_type": "execute_result"
    }
   ],
   "source": [
    "# Checking the shape of data\n",
    "data.shape"
   ]
  },
  {
   "cell_type": "code",
   "execution_count": 4,
   "metadata": {},
   "outputs": [
    {
     "data": {
      "text/plain": [
       "step        0\n",
       "customer    0\n",
       "age         0\n",
       "gender      0\n",
       "merchant    0\n",
       "category    0\n",
       "amount      0\n",
       "fraud       0\n",
       "dtype: int64"
      ]
     },
     "execution_count": 4,
     "metadata": {},
     "output_type": "execute_result"
    }
   ],
   "source": [
    "# Checking null values in dataset\n",
    "data.isnull().sum()"
   ]
  },
  {
   "cell_type": "code",
   "execution_count": 5,
   "metadata": {},
   "outputs": [
    {
     "name": "stdout",
     "output_type": "stream",
     "text": [
      "<class 'pandas.core.frame.DataFrame'>\n",
      "RangeIndex: 25200 entries, 0 to 25199\n",
      "Data columns (total 8 columns):\n",
      " #   Column    Non-Null Count  Dtype  \n",
      "---  ------    --------------  -----  \n",
      " 0   step      25200 non-null  object \n",
      " 1   customer  25200 non-null  object \n",
      " 2   age       25200 non-null  object \n",
      " 3   gender    25200 non-null  object \n",
      " 4   merchant  25200 non-null  object \n",
      " 5   category  25200 non-null  object \n",
      " 6   amount    25200 non-null  float64\n",
      " 7   fraud     25200 non-null  int64  \n",
      "dtypes: float64(1), int64(1), object(6)\n",
      "memory usage: 1.5+ MB\n"
     ]
    }
   ],
   "source": [
    "# Checking the data-types of all the columns\n",
    "data.info()"
   ]
  },
  {
   "cell_type": "code",
   "execution_count": 6,
   "metadata": {},
   "outputs": [
    {
     "data": {
      "text/html": [
       "<div>\n",
       "<style scoped>\n",
       "    .dataframe tbody tr th:only-of-type {\n",
       "        vertical-align: middle;\n",
       "    }\n",
       "\n",
       "    .dataframe tbody tr th {\n",
       "        vertical-align: top;\n",
       "    }\n",
       "\n",
       "    .dataframe thead th {\n",
       "        text-align: right;\n",
       "    }\n",
       "</style>\n",
       "<table border=\"1\" class=\"dataframe\">\n",
       "  <thead>\n",
       "    <tr style=\"text-align: right;\">\n",
       "      <th></th>\n",
       "      <th>amount</th>\n",
       "      <th>fraud</th>\n",
       "    </tr>\n",
       "  </thead>\n",
       "  <tbody>\n",
       "    <tr>\n",
       "      <th>count</th>\n",
       "      <td>25200.000000</td>\n",
       "      <td>25200.000000</td>\n",
       "    </tr>\n",
       "    <tr>\n",
       "      <th>mean</th>\n",
       "      <td>174.212506</td>\n",
       "      <td>0.285714</td>\n",
       "    </tr>\n",
       "    <tr>\n",
       "      <th>std</th>\n",
       "      <td>501.116240</td>\n",
       "      <td>0.451763</td>\n",
       "    </tr>\n",
       "    <tr>\n",
       "      <th>min</th>\n",
       "      <td>0.000000</td>\n",
       "      <td>0.000000</td>\n",
       "    </tr>\n",
       "    <tr>\n",
       "      <th>25%</th>\n",
       "      <td>17.720000</td>\n",
       "      <td>0.000000</td>\n",
       "    </tr>\n",
       "    <tr>\n",
       "      <th>50%</th>\n",
       "      <td>36.340000</td>\n",
       "      <td>0.000000</td>\n",
       "    </tr>\n",
       "    <tr>\n",
       "      <th>75%</th>\n",
       "      <td>109.180000</td>\n",
       "      <td>1.000000</td>\n",
       "    </tr>\n",
       "    <tr>\n",
       "      <th>max</th>\n",
       "      <td>8329.960000</td>\n",
       "      <td>1.000000</td>\n",
       "    </tr>\n",
       "  </tbody>\n",
       "</table>\n",
       "</div>"
      ],
      "text/plain": [
       "             amount         fraud\n",
       "count  25200.000000  25200.000000\n",
       "mean     174.212506      0.285714\n",
       "std      501.116240      0.451763\n",
       "min        0.000000      0.000000\n",
       "25%       17.720000      0.000000\n",
       "50%       36.340000      0.000000\n",
       "75%      109.180000      1.000000\n",
       "max     8329.960000      1.000000"
      ]
     },
     "execution_count": 6,
     "metadata": {},
     "output_type": "execute_result"
    }
   ],
   "source": [
    "data.describe()"
   ]
  },
  {
   "cell_type": "code",
   "execution_count": 7,
   "metadata": {},
   "outputs": [
    {
     "data": {
      "text/html": [
       "<div>\n",
       "<style scoped>\n",
       "    .dataframe tbody tr th:only-of-type {\n",
       "        vertical-align: middle;\n",
       "    }\n",
       "\n",
       "    .dataframe tbody tr th {\n",
       "        vertical-align: top;\n",
       "    }\n",
       "\n",
       "    .dataframe thead th {\n",
       "        text-align: right;\n",
       "    }\n",
       "</style>\n",
       "<table border=\"1\" class=\"dataframe\">\n",
       "  <thead>\n",
       "    <tr style=\"text-align: right;\">\n",
       "      <th></th>\n",
       "      <th>step</th>\n",
       "      <th>customer</th>\n",
       "      <th>age</th>\n",
       "      <th>gender</th>\n",
       "      <th>merchant</th>\n",
       "      <th>category</th>\n",
       "      <th>amount</th>\n",
       "      <th>fraud</th>\n",
       "    </tr>\n",
       "  </thead>\n",
       "  <tbody>\n",
       "    <tr>\n",
       "      <th>0</th>\n",
       "      <td>137</td>\n",
       "      <td>709</td>\n",
       "      <td>2</td>\n",
       "      <td>2</td>\n",
       "      <td>16</td>\n",
       "      <td>12</td>\n",
       "      <td>15.78</td>\n",
       "      <td>0</td>\n",
       "    </tr>\n",
       "    <tr>\n",
       "      <th>1</th>\n",
       "      <td>174</td>\n",
       "      <td>2999</td>\n",
       "      <td>1</td>\n",
       "      <td>1</td>\n",
       "      <td>1</td>\n",
       "      <td>0</td>\n",
       "      <td>608.32</td>\n",
       "      <td>1</td>\n",
       "    </tr>\n",
       "    <tr>\n",
       "      <th>2</th>\n",
       "      <td>94</td>\n",
       "      <td>1453</td>\n",
       "      <td>1</td>\n",
       "      <td>1</td>\n",
       "      <td>28</td>\n",
       "      <td>12</td>\n",
       "      <td>43.76</td>\n",
       "      <td>0</td>\n",
       "    </tr>\n",
       "    <tr>\n",
       "      <th>3</th>\n",
       "      <td>122</td>\n",
       "      <td>556</td>\n",
       "      <td>2</td>\n",
       "      <td>1</td>\n",
       "      <td>16</td>\n",
       "      <td>12</td>\n",
       "      <td>41.57</td>\n",
       "      <td>0</td>\n",
       "    </tr>\n",
       "    <tr>\n",
       "      <th>4</th>\n",
       "      <td>5</td>\n",
       "      <td>1513</td>\n",
       "      <td>2</td>\n",
       "      <td>2</td>\n",
       "      <td>28</td>\n",
       "      <td>12</td>\n",
       "      <td>42.97</td>\n",
       "      <td>0</td>\n",
       "    </tr>\n",
       "  </tbody>\n",
       "</table>\n",
       "</div>"
      ],
      "text/plain": [
       "   step  customer  age  gender  merchant  category  amount  fraud\n",
       "0   137       709    2       2        16        12   15.78      0\n",
       "1   174      2999    1       1         1         0  608.32      1\n",
       "2    94      1453    1       1        28        12   43.76      0\n",
       "3   122       556    2       1        16        12   41.57      0\n",
       "4     5      1513    2       2        28        12   42.97      0"
      ]
     },
     "execution_count": 7,
     "metadata": {},
     "output_type": "execute_result"
    }
   ],
   "source": [
    "# Using Label Encoder to converting categorical features to Numerical values\n",
    "le = LabelEncoder()\n",
    "for i in data.columns:\n",
    "    if data[i].dtype=='object':\n",
    "        data[i]=le.fit_transform(data[i])\n",
    "data.head()"
   ]
  },
  {
   "cell_type": "code",
   "execution_count": 8,
   "metadata": {},
   "outputs": [
    {
     "data": {
      "image/png": "[encoded data removed]",
      "text/plain": [
       "<Figure size 1080x720 with 1 Axes>"
      ]
     },
     "metadata": {
      "needs_background": "light"
     },
     "output_type": "display_data"
    }
   ],
   "source": [
    "#Checking outliers using box plot\n",
    "plt.figure(figsize=(15,10))\n",
    "data.boxplot()\n",
    "plt.show()"
   ]
  },
  {
   "cell_type": "code",
   "execution_count": 9,
   "metadata": {},
   "outputs": [
    {
     "name": "stdout",
     "output_type": "stream",
     "text": [
      "91.46000000000001\n"
     ]
    }
   ],
   "source": [
    "# Calculate the IQR\n",
    "Q1 = data['amount'].quantile(0.25)\n",
    "Q3 = data['amount'].quantile(0.75)\n",
    "IQR = Q3 - Q1\n",
    "data['amount'] = np.clip(data['amount'], Q1-1.5*IQR, Q3+1.5*IQR)\n",
    "\n",
    "print(IQR)"
   ]
  },
  {
   "cell_type": "code",
   "execution_count": 10,
   "metadata": {},
   "outputs": [
    {
     "data": {
      "image/png": "[encoded data removed]",
      "text/plain": [
       "<Figure size 1080x720 with 1 Axes>"
      ]
     },
     "metadata": {
      "needs_background": "light"
     },
     "output_type": "display_data"
    }
   ],
   "source": [
    "# Boxplot After removing outliers\n",
    "plt.figure(figsize=(15,10))\n",
    "data.boxplot()\n",
    "plt.show()"
   ]
  },
  {
   "cell_type": "code",
   "execution_count": 11,
   "metadata": {},
   "outputs": [
    {
     "data": {
      "image/png": "[encoded data removed]",
      "text/plain": [
       "<Figure size 1080x360 with 2 Axes>"
      ]
     },
     "metadata": {
      "needs_background": "light"
     },
     "output_type": "display_data"
    }
   ],
   "source": [
    "# Checking Correlation between diffrent features\n",
    "corrmat = data.corr()\n",
    "fig = plt.figure(figsize = (15,5))\n",
    "\n",
    "sns.heatmap(corrmat, cbar=True, annot=True, square=True, fmt='.2f', \n",
    "                 annot_kws={'size': 10})\n",
    "plt.show()"
   ]
  },
  {
   "cell_type": "code",
   "execution_count": 12,
   "metadata": {},
   "outputs": [
    {
     "name": "stdout",
     "output_type": "stream",
     "text": [
      "Correlation b/w fraud and step - coef: -0.05, pval: 0.000000\n",
      "Correlation b/w fraud and customer - coef: 0.02, pval: 0.000703\n",
      "Correlation b/w fraud and age - coef: -0.01, pval: 0.095583\n",
      "Correlation b/w fraud and gender - coef: -0.10, pval: 0.000000\n",
      "Correlation b/w fraud and merchant - coef: 0.34, pval: 0.000000\n",
      "Correlation b/w fraud and category - coef: -0.47, pval: 0.000000\n",
      "Correlation b/w fraud and amount - coef: 0.85, pval: 0.000000\n"
     ]
    }
   ],
   "source": [
    "# Pearson's correlation is used to find the linear relationship between independent and dependent variable\n",
    "from scipy.stats import pearsonr\n",
    "var = ['step','customer','age','gender','merchant','category','amount']\n",
    "for col in var:\n",
    "    coef, pval = pearsonr(data[col], data.fraud)\n",
    "    print('Correlation b/w fraud and %s - coef: %.2f, pval: %f' %(col, coef, pval))"
   ]
  },
  {
   "cell_type": "code",
   "execution_count": 13,
   "metadata": {},
   "outputs": [
    {
     "data": {
      "image/png": "[encoded data removed]",
      "text/plain": [
       "<Figure size 864x1080 with 8 Axes>"
      ]
     },
     "metadata": {
      "needs_background": "light"
     },
     "output_type": "display_data"
    }
   ],
   "source": [
    "# Visualizing fraud Vs other features to generate insights\n",
    "fig, axs = plt.subplots(ncols=2, nrows=4, figsize=(12,15))\n",
    "i = 0\n",
    "j = 0\n",
    "for var in ['step','customer','age','gender','merchant','category','amount']:\n",
    "    sns.regplot(x='fraud', y=var, data =data, ax= axs[i][j])\n",
    "    j +=1\n",
    "    if j>1:\n",
    "        i += 1\n",
    "        j =0"
   ]
  },
  {
   "cell_type": "code",
   "execution_count": 14,
   "metadata": {},
   "outputs": [
    {
     "data": {
      "image/png": "[encoded data removed]",
      "text/plain": [
       "<Figure size 432x288 with 1 Axes>"
      ]
     },
     "metadata": {
      "needs_background": "light"
     },
     "output_type": "display_data"
    }
   ],
   "source": [
    "# Checking skewness in data\n",
    "sns.distplot(data.fraud);"
   ]
  },
  {
   "cell_type": "code",
   "execution_count": 15,
   "metadata": {},
   "outputs": [],
   "source": [
    "X = data.iloc[:,:5]\n",
    "y = data['fraud']"
   ]
  },
  {
   "cell_type": "code",
   "execution_count": 16,
   "metadata": {},
   "outputs": [
    {
     "name": "stdout",
     "output_type": "stream",
     "text": [
      "(6300, 5)\n",
      "(18900, 5)\n",
      "(6300,)\n",
      "(18900,)\n"
     ]
    }
   ],
   "source": [
    "# Splitting the dataset using sklearn, with 75% for testing with random_state = 42\n",
    "from sklearn.model_selection import train_test_split\n",
    "X_train,X_test,y_train,y_test=train_test_split(X, y,test_size=0.75, random_state = 42)\n",
    "print(X_train.shape)\n",
    "print(X_test.shape)\n",
    "print(y_train.shape)\n",
    "print(y_test.shape)"
   ]
  },
  {
   "cell_type": "code",
   "execution_count": 17,
   "metadata": {},
   "outputs": [
    {
     "name": "stdout",
     "output_type": "stream",
     "text": [
      "                 Model  Accuracy  Precision    Recall  F1 Score\n",
      "0  Logistic Regression  0.771323   0.721158  0.327168  0.450127\n"
     ]
    }
   ],
   "source": [
    "# Applying LogisticRegression\n",
    "from sklearn.linear_model import LogisticRegression\n",
    "lr = LogisticRegression(C=0.4,max_iter=1000,solver='liblinear')\n",
    "lr.fit(X_train, y_train)\n",
    "# Predicting on X_test dataset\n",
    "y_pred = lr.predict(X_test)\n",
    "acc = accuracy_score(y_test, y_pred)\n",
    "prec = precision_score(y_test, y_pred)\n",
    "rec = recall_score(y_test, y_pred)\n",
    "f1 = f1_score(y_test, y_pred)\n",
    "\n",
    "results = pd.DataFrame([['Logistic Regression', acc, prec, rec, f1]],\n",
    "               columns = ['Model', 'Accuracy', 'Precision', 'Recall', 'F1 Score'])\n",
    "print(results)"
   ]
  },
  {
   "cell_type": "code",
   "execution_count": 18,
   "metadata": {},
   "outputs": [
    {
     "data": {
      "text/plain": [
       "array([[12809,   684],\n",
       "       [ 3638,  1769]], dtype=int64)"
      ]
     },
     "execution_count": 18,
     "metadata": {},
     "output_type": "execute_result"
    }
   ],
   "source": [
    "# Lets Check the Confusion matrix\n",
    "confusion_matrix(y_test, y_pred)"
   ]
  },
  {
   "cell_type": "code",
   "execution_count": 19,
   "metadata": {},
   "outputs": [
    {
     "data": {
      "text/plain": [
       "0.6382377666979259"
      ]
     },
     "execution_count": 19,
     "metadata": {},
     "output_type": "execute_result"
    }
   ],
   "source": [
    "# Lets Check the roc_auc_score\n",
    "roc_auc_score(y_test, y_pred)"
   ]
  },
  {
   "cell_type": "code",
   "execution_count": 20,
   "metadata": {},
   "outputs": [
    {
     "data": {
      "image/png": "[encoded data removed]",
      "text/plain": [
       "<Figure size 576x360 with 2 Axes>"
      ]
     },
     "metadata": {
      "needs_background": "light"
     },
     "output_type": "display_data"
    }
   ],
   "source": [
    "dcm = confusion_matrix(y_test, y_pred)\n",
    "dconf_matrix = pd.DataFrame(data=dcm, columns=['Predicted:0','Predicted:1'], index=['Actual:0','Actual:1'])\n",
    "plt.figure(figsize= (8,5))\n",
    "sns.heatmap(dconf_matrix, annot=True, fmt='d',cmap='Greens')\n",
    "fm = {'size':18,'color':'#08488d','weight':'bold'}\n",
    "plt.title('Logistic Regression', **fm)\n",
    "plt.show()"
   ]
  },
  {
   "cell_type": "code",
   "execution_count": 21,
   "metadata": {},
   "outputs": [
    {
     "name": "stdout",
     "output_type": "stream",
     "text": [
      "                    Model  Accuracy  Precision    Recall  F1 Score\n",
      "0     Logistic Regression  0.771323   0.721158  0.327168  0.450127\n",
      "1  Random Forest(Entropy)  0.959524   0.902253  0.962826  0.931556\n"
     ]
    }
   ],
   "source": [
    "# Applying RandomForestClassifier\n",
    "from sklearn.ensemble import RandomForestClassifier\n",
    "rfc = RandomForestClassifier(criterion='entropy', class_weight='balanced', random_state=42)\n",
    "rfc.fit(X_train, y_train)\n",
    "# Predicting Test Set\n",
    "y_pred_rf = rfc.predict(X_test)\n",
    "acc = accuracy_score(y_test, y_pred_rf)\n",
    "prec = precision_score(y_test, y_pred_rf)\n",
    "rec = recall_score(y_test, y_pred_rf)\n",
    "f1 = f1_score(y_test, y_pred_rf)\n",
    "model_results = pd.DataFrame([['Random Forest(Entropy)', acc, prec, rec, f1]],\n",
    "               columns = ['Model', 'Accuracy', 'Precision', 'Recall', 'F1 Score'])\n",
    "results = results.append(model_results, ignore_index = True)\n",
    "print(results)"
   ]
  },
  {
   "cell_type": "code",
   "execution_count": 22,
   "metadata": {},
   "outputs": [
    {
     "name": "stdout",
     "output_type": "stream",
     "text": [
      "[[12929   564]\n",
      " [  201  5206]]\n"
     ]
    }
   ],
   "source": [
    "# Lets Check the Confusion Matrix\n",
    "print(confusion_matrix(y_test, y_pred_rf))"
   ]
  },
  {
   "cell_type": "code",
   "execution_count": 23,
   "metadata": {},
   "outputs": [
    {
     "data": {
      "text/plain": [
       "0.9605132573862251"
      ]
     },
     "execution_count": 23,
     "metadata": {},
     "output_type": "execute_result"
    }
   ],
   "source": [
    "# Lets Check the roc_auc_score\n",
    "roc_auc_score(y_test, y_pred_rf)"
   ]
  },
  {
   "cell_type": "code",
   "execution_count": 24,
   "metadata": {},
   "outputs": [
    {
     "name": "stdout",
     "output_type": "stream",
     "text": [
      "              precision    recall  f1-score   support\n",
      "\n",
      "           0       0.98      0.96      0.97     13493\n",
      "           1       0.90      0.96      0.93      5407\n",
      "\n",
      "    accuracy                           0.96     18900\n",
      "   macro avg       0.94      0.96      0.95     18900\n",
      "weighted avg       0.96      0.96      0.96     18900\n",
      "\n"
     ]
    }
   ],
   "source": [
    "# Lets Check the classification report of the model\n",
    "print(classification_report(y_test, y_pred_rf))"
   ]
  },
  {
   "cell_type": "code",
   "execution_count": 25,
   "metadata": {},
   "outputs": [
    {
     "data": {
      "image/png": "[encoded data removed]",
      "text/plain": [
       "<Figure size 576x360 with 2 Axes>"
      ]
     },
     "metadata": {
      "needs_background": "light"
     },
     "output_type": "display_data"
    }
   ],
   "source": [
    "dcm = confusion_matrix(y_test, y_pred_rf)\n",
    "dconf_matrix = pd.DataFrame(data=dcm, columns=['Predicted:0','Predicted:1'], index=['Actual:0','Actual:1'])\n",
    "plt.figure(figsize= (8,5))\n",
    "sns.heatmap(dconf_matrix, annot=True, fmt='d',cmap='Blues')\n",
    "fm = {'size':18,'color':'#08478d','weight':'bold'}\n",
    "plt.title('Random Forest(Entropy)', **fm)\n",
    "plt.show()"
   ]
  },
  {
   "cell_type": "code",
   "execution_count": 26,
   "metadata": {},
   "outputs": [
    {
     "name": "stdout",
     "output_type": "stream",
     "text": [
      "                    Model  Accuracy  Precision    Recall  F1 Score\n",
      "0     Logistic Regression  0.771323   0.721158  0.327168  0.450127\n",
      "1  Random Forest(Entropy)  0.959524   0.902253  0.962826  0.931556\n",
      "2     Random Forest(Gini)  0.959524   0.902253  0.962826  0.931556\n"
     ]
    }
   ],
   "source": [
    "# Applying RandomForestClassifier\n",
    "from sklearn.ensemble import RandomForestClassifier\n",
    "rfc1 = RandomForestClassifier(criterion='gini', class_weight='balanced', random_state=42)\n",
    "rfc1.fit(X_train, y_train)\n",
    "# Predicting Test Set\n",
    "y_pred_rf1 = rfc.predict(X_test)\n",
    "acc = accuracy_score(y_test, y_pred_rf1)\n",
    "prec = precision_score(y_test, y_pred_rf1)\n",
    "rec = recall_score(y_test, y_pred_rf1)\n",
    "f1 = f1_score(y_test, y_pred_rf1)\n",
    "model_results = pd.DataFrame([['Random Forest(Gini)', acc, prec, rec, f1]],\n",
    "               columns = ['Model', 'Accuracy', 'Precision', 'Recall', 'F1 Score'])\n",
    "results = results.append(model_results, ignore_index = True)\n",
    "print(results)"
   ]
  },
  {
   "cell_type": "code",
   "execution_count": 27,
   "metadata": {},
   "outputs": [
    {
     "name": "stdout",
     "output_type": "stream",
     "text": [
      "[[12929   564]\n",
      " [  201  5206]]\n"
     ]
    }
   ],
   "source": [
    "# Lets Check the Confusion Matrix\n",
    "print(confusion_matrix(y_test, y_pred_rf1))"
   ]
  },
  {
   "cell_type": "code",
   "execution_count": 28,
   "metadata": {},
   "outputs": [
    {
     "data": {
      "text/plain": [
       "0.9605132573862251"
      ]
     },
     "execution_count": 28,
     "metadata": {},
     "output_type": "execute_result"
    }
   ],
   "source": [
    "# Lets Check the roc_auc_score\n",
    "roc_auc_score(y_test, y_pred_rf1)"
   ]
  },
  {
   "cell_type": "code",
   "execution_count": 29,
   "metadata": {},
   "outputs": [
    {
     "name": "stdout",
     "output_type": "stream",
     "text": [
      "              precision    recall  f1-score   support\n",
      "\n",
      "           0       0.98      0.96      0.97     13493\n",
      "           1       0.90      0.96      0.93      5407\n",
      "\n",
      "    accuracy                           0.96     18900\n",
      "   macro avg       0.94      0.96      0.95     18900\n",
      "weighted avg       0.96      0.96      0.96     18900\n",
      "\n"
     ]
    }
   ],
   "source": [
    "# Lets Check the classification report of the model\n",
    "print(classification_report(y_test, y_pred_rf1))"
   ]
  },
  {
   "cell_type": "code",
   "execution_count": 31,
   "metadata": {},
   "outputs": [
    {
     "data": {
      "image/png": "[encoded data removed]",
      "text/plain": [
       "<Figure size 576x360 with 2 Axes>"
      ]
     },
     "metadata": {
      "needs_background": "light"
     },
     "output_type": "display_data"
    }
   ],
   "source": [
    "dcm = confusion_matrix(y_test, y_pred_rf1)\n",
    "dconf_matrix = pd.DataFrame(data=dcm, columns=['Predicted:0','Predicted:1'], index=['Actual:0','Actual:1'])\n",
    "plt.figure(figsize= (8,5))\n",
    "sns.heatmap(dconf_matrix, annot=True, fmt='d',cmap='Pastel1')\n",
    "fm = {'size':18,'color':'#08478d','weight':'bold'}\n",
    "plt.title('Random Forest(Gini)', **fm)\n",
    "plt.show()"
   ]
  },
  {
   "cell_type": "code",
   "execution_count": 32,
   "metadata": {},
   "outputs": [
    {
     "data": {
      "text/plain": [
       "LinearSVC(dual=False, max_iter=2000)"
      ]
     },
     "execution_count": 32,
     "metadata": {},
     "output_type": "execute_result"
    }
   ],
   "source": [
    "# Applying LinearSVC\n",
    "from sklearn.svm import  LinearSVC\n",
    "svm = LinearSVC(dual= False, max_iter=2000)\n",
    "svm.fit(X_train, y_train)"
   ]
  },
  {
   "cell_type": "code",
   "execution_count": 33,
   "metadata": {},
   "outputs": [
    {
     "name": "stdout",
     "output_type": "stream",
     "text": [
      "                    Model  Accuracy  Precision    Recall  F1 Score\n",
      "0     Logistic Regression  0.771323   0.721158  0.327168  0.450127\n",
      "1  Random Forest(Entropy)  0.959524   0.902253  0.962826  0.931556\n",
      "2     Random Forest(Gini)  0.959524   0.902253  0.962826  0.931556\n",
      "3  Support Vector Machine  0.773333   0.734251  0.325504  0.451051\n"
     ]
    }
   ],
   "source": [
    "y_pred_svm = svm.predict(X_test)\n",
    "acc = accuracy_score(y_test, y_pred_svm)\n",
    "prec = precision_score(y_test, y_pred_svm)\n",
    "rec = recall_score(y_test, y_pred_svm)\n",
    "f1 = f1_score(y_test, y_pred_svm)\n",
    "\n",
    "model_results = pd.DataFrame([['Support Vector Machine', acc, prec, rec, f1]],\n",
    "               columns = ['Model', 'Accuracy', 'Precision', 'Recall', 'F1 Score'])\n",
    "\n",
    "results = results.append(model_results, ignore_index = True)\n",
    "print(results)"
   ]
  },
  {
   "cell_type": "code",
   "execution_count": 34,
   "metadata": {},
   "outputs": [
    {
     "name": "stdout",
     "output_type": "stream",
     "text": [
      "[[12856   637]\n",
      " [ 3647  1760]]\n"
     ]
    }
   ],
   "source": [
    "# Lets Check the Confusion Matrix\n",
    "print(confusion_matrix(y_test, y_pred_svm))"
   ]
  },
  {
   "cell_type": "code",
   "execution_count": 35,
   "metadata": {},
   "outputs": [
    {
     "data": {
      "text/plain": [
       "0.6391471560283105"
      ]
     },
     "execution_count": 35,
     "metadata": {},
     "output_type": "execute_result"
    }
   ],
   "source": [
    "# Lets Check the roc_auc_score\n",
    "roc_auc_score(y_test, y_pred_svm)"
   ]
  },
  {
   "cell_type": "code",
   "execution_count": 36,
   "metadata": {},
   "outputs": [
    {
     "name": "stdout",
     "output_type": "stream",
     "text": [
      "              precision    recall  f1-score   support\n",
      "\n",
      "           0       0.78      0.95      0.86     13493\n",
      "           1       0.73      0.33      0.45      5407\n",
      "\n",
      "    accuracy                           0.77     18900\n",
      "   macro avg       0.76      0.64      0.65     18900\n",
      "weighted avg       0.77      0.77      0.74     18900\n",
      "\n"
     ]
    }
   ],
   "source": [
    "# Lets Check the classification report of the model\n",
    "print(classification_report(y_test, y_pred_svm))"
   ]
  },
  {
   "cell_type": "code",
   "execution_count": 37,
   "metadata": {},
   "outputs": [
    {
     "data": {
      "image/png": "[encoded data removed]",
      "text/plain": [
       "<Figure size 576x360 with 2 Axes>"
      ]
     },
     "metadata": {
      "needs_background": "light"
     },
     "output_type": "display_data"
    }
   ],
   "source": [
    "dcm = confusion_matrix(y_test, y_pred_svm)\n",
    "dconf_matrix = pd.DataFrame(data=dcm, columns=['Predicted:0','Predicted:1'], index=['Actual:0','Actual:1'])\n",
    "plt.figure(figsize= (8,5))\n",
    "sns.heatmap(dconf_matrix, annot=True, fmt='d',cmap='Reds')\n",
    "fm = {'size':18,'color':'#08478d','weight':'bold'}\n",
    "plt.title('Support Vector Machine', **fm)\n",
    "plt.show()"
   ]
  },
  {
   "cell_type": "code",
   "execution_count": 38,
   "metadata": {},
   "outputs": [
    {
     "name": "stdout",
     "output_type": "stream",
     "text": [
      "                    Model  Accuracy  Precision    Recall  F1 Score\n",
      "0     Logistic Regression  0.771323   0.721158  0.327168  0.450127\n",
      "1  Random Forest(Entropy)  0.959524   0.902253  0.962826  0.931556\n",
      "2     Random Forest(Gini)  0.959524   0.902253  0.962826  0.931556\n",
      "3  Support Vector Machine  0.773333   0.734251  0.325504  0.451051\n",
      "4              GaussianNB  0.773175   0.694040  0.370446  0.483058\n"
     ]
    }
   ],
   "source": [
    "# Applying GaussianNB\n",
    "from sklearn.naive_bayes import GaussianNB\n",
    "gnb = GaussianNB()\n",
    "gnb.fit(X_train, y_train)\n",
    "# Predicting Test Set\n",
    "y_pred_gnb = gnb.predict(X_test)\n",
    "acc = accuracy_score(y_test, y_pred_gnb)\n",
    "prec = precision_score(y_test, y_pred_gnb)\n",
    "rec = recall_score(y_test, y_pred_gnb)\n",
    "f1 = f1_score(y_test, y_pred_gnb)\n",
    "model_results = pd.DataFrame([['GaussianNB', acc, prec, rec, f1]],\n",
    "               columns = ['Model', 'Accuracy', 'Precision', 'Recall', 'F1 Score'])\n",
    "results = results.append(model_results, ignore_index = True)\n",
    "print(results)"
   ]
  },
  {
   "cell_type": "code",
   "execution_count": 39,
   "metadata": {},
   "outputs": [
    {
     "name": "stdout",
     "output_type": "stream",
     "text": [
      "[[12610   883]\n",
      " [ 3404  2003]]\n"
     ]
    }
   ],
   "source": [
    "# Lets Check the Confusion Matrix\n",
    "print(confusion_matrix(y_test, y_pred_gnb))"
   ]
  },
  {
   "cell_type": "code",
   "execution_count": 40,
   "metadata": {},
   "outputs": [
    {
     "data": {
      "text/plain": [
       "0.6525021892794941"
      ]
     },
     "execution_count": 40,
     "metadata": {},
     "output_type": "execute_result"
    }
   ],
   "source": [
    "# Lets Check the roc_auc_score\n",
    "roc_auc_score(y_test, y_pred_gnb)"
   ]
  },
  {
   "cell_type": "code",
   "execution_count": 41,
   "metadata": {},
   "outputs": [
    {
     "name": "stdout",
     "output_type": "stream",
     "text": [
      "              precision    recall  f1-score   support\n",
      "\n",
      "           0       0.79      0.93      0.85     13493\n",
      "           1       0.69      0.37      0.48      5407\n",
      "\n",
      "    accuracy                           0.77     18900\n",
      "   macro avg       0.74      0.65      0.67     18900\n",
      "weighted avg       0.76      0.77      0.75     18900\n",
      "\n"
     ]
    }
   ],
   "source": [
    "# Lets Check the classification report of the model\n",
    "print(classification_report(y_test, y_pred_gnb))"
   ]
  },
  {
   "cell_type": "code",
   "execution_count": 42,
   "metadata": {},
   "outputs": [
    {
     "data": {
      "image/png": "[encoded data removed]",
      "text/plain": [
       "<Figure size 576x360 with 2 Axes>"
      ]
     },
     "metadata": {
      "needs_background": "light"
     },
     "output_type": "display_data"
    }
   ],
   "source": [
    "dcm = confusion_matrix(y_test, y_pred_gnb)\n",
    "dconf_matrix = pd.DataFrame(data=dcm, columns=['Predicted:0','Predicted:1'], index=['Actual:0','Actual:1'])\n",
    "plt.figure(figsize= (8,5))\n",
    "sns.heatmap(dconf_matrix, annot=True, fmt='d',cmap='Purples')\n",
    "fm = {'size':18,'color':'#08478d','weight':'bold'}\n",
    "plt.title('GaussianNB', **fm)\n",
    "plt.show()"
   ]
  },
  {
   "cell_type": "code",
   "execution_count": null,
   "metadata": {},
   "outputs": [],
   "source": []
  }
 ],
 "metadata": {
  "kernelspec": {
   "display_name": "Python 3",
   "language": "python",
   "name": "python3"
  },
  "language_info": {
   "codemirror_mode": {
    "name": "ipython",
    "version": 3
   },
   "file_extension": ".py",
   "mimetype": "text/x-python",
   "name": "python",
   "nbconvert_exporter": "python",
   "pygments_lexer": "ipython3",
   "version": "3.8.3"
  }
 },
 "nbformat": 4,
 "nbformat_minor": 4
}
